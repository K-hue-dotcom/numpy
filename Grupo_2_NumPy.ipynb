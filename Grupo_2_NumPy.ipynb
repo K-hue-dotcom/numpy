{
  "nbformat": 4,
  "nbformat_minor": 0,
  "metadata": {
    "colab": {
      "name": "Grupo 2: NumPy",
      "provenance": [],
      "authorship_tag": "ABX9TyMaV7xDDS8iuKFGjUowOIqt",
      "include_colab_link": true
    },
    "kernelspec": {
      "name": "python3",
      "display_name": "Python 3"
    }
  },
  "cells": [
    {
      "cell_type": "markdown",
      "metadata": {
        "id": "view-in-github",
        "colab_type": "text"
      },
      "source": [
        "<a href=\"https://colab.research.google.com/github/guilhermenb/NumPy/blob/main/Grupo_2_NumPy.ipynb\" target=\"_parent\"><img src=\"https://colab.research.google.com/assets/colab-badge.svg\" alt=\"Open In Colab\"/></a>"
      ]
    },
    {
      "cell_type": "markdown",
      "metadata": {
        "id": "lc8SeGf1b1SA"
      },
      "source": [
        "# NumPy"
      ]
    },
    {
      "cell_type": "markdown",
      "metadata": {
        "id": "PJxGlSh8b_sd"
      },
      "source": [
        "O NumPy é uma biblioteca que suporta arrays e matrizes multidimensionais. Com suas funções é possível facilitar a execução de operações matemáticas e também de outras tarefas, como Machine Learning e Processamento de Imagem e Computação Gráfica. \n",
        "Entre suas funções incorporadas, destacam-se as usadas para álgebra linear\n",
        "e geração de números aleatórios.\n"
      ]
    },
    {
      "cell_type": "markdown",
      "metadata": {
        "id": "tK7N6V0hfOjl"
      },
      "source": [
        "**Importando NumPy**"
      ]
    },
    {
      "cell_type": "markdown",
      "metadata": {
        "id": "O1Nf16JqieTd"
      },
      "source": [
        "Caso a biblioteca não esteja instalada, o modo mais fácil é usar o pip para fazer a instalação de sua versão mais recente."
      ]
    },
    {
      "cell_type": "code",
      "metadata": {
        "id": "qKj_k_0Iic6j",
        "colab": {
          "base_uri": "https://localhost:8080/"
        },
        "outputId": "6de6968e-45a3-4a33-f640-e0e832bd043b"
      },
      "source": [
        "pip install numpy"
      ],
      "execution_count": null,
      "outputs": [
        {
          "output_type": "stream",
          "text": [
            "Requirement already satisfied: numpy in /usr/local/lib/python3.6/dist-packages (1.18.5)\n"
          ],
          "name": "stdout"
        }
      ]
    },
    {
      "cell_type": "markdown",
      "metadata": {
        "id": "YNEbTNaVjMkV"
      },
      "source": [
        "Em seguida, basta importar a biblioteca."
      ]
    },
    {
      "cell_type": "code",
      "metadata": {
        "id": "Yju-UTNOcoVd"
      },
      "source": [
        "import numpy"
      ],
      "execution_count": null,
      "outputs": []
    },
    {
      "cell_type": "markdown",
      "metadata": {
        "id": "QYNVUZCth0bE"
      },
      "source": [
        "Também podemos importar a biblioteca e usá-la com outro nome."
      ]
    },
    {
      "cell_type": "code",
      "metadata": {
        "id": "D8eYl9y8h7nD"
      },
      "source": [
        "import numpy as np"
      ],
      "execution_count": null,
      "outputs": []
    },
    {
      "cell_type": "markdown",
      "metadata": {
        "id": "hpdatO6VgC7L"
      },
      "source": [
        "## Arrays/Matrizes"
      ]
    },
    {
      "cell_type": "markdown",
      "metadata": {
        "id": "72IvyBUillW2"
      },
      "source": [
        "### Conceitos e Operações"
      ]
    },
    {
      "cell_type": "markdown",
      "metadata": {
        "id": "H9dDGfAl_FQc"
      },
      "source": [
        "**O que são arrays em NumPy**"
      ]
    },
    {
      "cell_type": "markdown",
      "metadata": {
        "id": "0IbWuqhD_IpB"
      },
      "source": [
        "Arrays são estruturas de dados semelhantes às listas, mas com menor flexibiliade. Em um array todos os elementos devem ser de um mesmo tipo, geralmente numérico, como int ou float, e seu tamanho não pode ser modificado."
      ]
    },
    {
      "cell_type": "markdown",
      "metadata": {
        "id": "60lYhl1bbDgg"
      },
      "source": [
        "**Função array**"
      ]
    },
    {
      "cell_type": "code",
      "metadata": {
        "id": "-hRSdOCPgiZt",
        "colab": {
          "base_uri": "https://localhost:8080/"
        },
        "outputId": "1e13e840-5cab-431a-fc6e-1936af4f155a"
      },
      "source": [
        "# Criando um array \n",
        "\n",
        "a= np.array([1,2,3])\n",
        "print(a)"
      ],
      "execution_count": null,
      "outputs": [
        {
          "output_type": "stream",
          "text": [
            "[1 2 3]\n"
          ],
          "name": "stdout"
        }
      ]
    },
    {
      "cell_type": "markdown",
      "metadata": {
        "id": "XpaeLKGnmOlv"
      },
      "source": [
        "Com o NumPy, um array pode ser utilizado para criar matrizes. No array abaixo, cada lista de inteiros corresponde a uma linha da matriz. Essas listas devem ter a mesma quantidade de elementos para formar as colunas da matriz."
      ]
    },
    {
      "cell_type": "code",
      "metadata": {
        "id": "-1fNIzmtl97S",
        "colab": {
          "base_uri": "https://localhost:8080/"
        },
        "outputId": "b3bed807-d23c-4b0d-bd58-85002554a3cb"
      },
      "source": [
        "# Criando uma matriz\n",
        "\n",
        "A= np.array([[1,2,3],[1,2,3]])\n",
        "print(A)\n",
        "\n",
        "# 2 listas de inteiros\n",
        "# 3 elementos por lista\n",
        "# Logo, trata-se de uma matriz 2x3"
      ],
      "execution_count": null,
      "outputs": [
        {
          "output_type": "stream",
          "text": [
            "[[1 2 3]\n",
            " [1 2 3]]\n"
          ],
          "name": "stdout"
        }
      ]
    },
    {
      "cell_type": "markdown",
      "metadata": {
        "id": "wYzXNp3q5MHS"
      },
      "source": [
        "Podemos usar a função shape para verificar as dimensões de um array."
      ]
    },
    {
      "cell_type": "code",
      "metadata": {
        "id": "I9bD4vfF5Tph",
        "colab": {
          "base_uri": "https://localhost:8080/"
        },
        "outputId": "daf469b6-091b-4d44-d873-8ef76caf227f"
      },
      "source": [
        "print(A.shape)\n",
        "\n",
        "# (linhas,colunas)"
      ],
      "execution_count": null,
      "outputs": [
        {
          "output_type": "stream",
          "text": [
            "(2, 3)\n"
          ],
          "name": "stdout"
        }
      ]
    },
    {
      "cell_type": "markdown",
      "metadata": {
        "id": "LGZq8WnUmlNy"
      },
      "source": [
        "Dessa forma, é possível criar matrizes com as dimensões que quisermos."
      ]
    },
    {
      "cell_type": "code",
      "metadata": {
        "id": "qfkwtq97sHxx",
        "colab": {
          "base_uri": "https://localhost:8080/"
        },
        "outputId": "62810a1f-f5cc-4d73-850a-12dbb091db1c"
      },
      "source": [
        "# Matriz 1x3\n",
        "\n",
        "B= np.array([[1.1,2.2,3.3]])\n",
        "print(B)\n",
        "\n",
        "# Também podemos usar números flutuantes (float)"
      ],
      "execution_count": null,
      "outputs": [
        {
          "output_type": "stream",
          "text": [
            "[[1.1 2.2 3.3]]\n"
          ],
          "name": "stdout"
        }
      ]
    },
    {
      "cell_type": "code",
      "metadata": {
        "id": "-JYmXl0KmryM",
        "colab": {
          "base_uri": "https://localhost:8080/"
        },
        "outputId": "f4d3f018-4fb1-46a4-ab94-b8e76a39629f"
      },
      "source": [
        "# Matriz 3x4 \n",
        "\n",
        "C= np.array([[1,0,3,4],[1,0,2,2],[2,3,4,5]])\n",
        "print(C)"
      ],
      "execution_count": null,
      "outputs": [
        {
          "output_type": "stream",
          "text": [
            "[[1 0 3 4]\n",
            " [1 0 2 2]\n",
            " [2 3 4 5]]\n"
          ],
          "name": "stdout"
        }
      ]
    },
    {
      "cell_type": "code",
      "metadata": {
        "id": "-aLnP_H6nm7s",
        "colab": {
          "base_uri": "https://localhost:8080/"
        },
        "outputId": "015bc103-bc53-4066-ae76-9d44c9c7e2f3"
      },
      "source": [
        "# Matriz 5x3\n",
        "\n",
        "D= np.array([[1,2,3],[4,5,6],[7,8,9],[10,11,12],[13,14,15]])\n",
        "print(D)"
      ],
      "execution_count": null,
      "outputs": [
        {
          "output_type": "stream",
          "text": [
            "[[ 1  2  3]\n",
            " [ 4  5  6]\n",
            " [ 7  8  9]\n",
            " [10 11 12]\n",
            " [13 14 15]]\n"
          ],
          "name": "stdout"
        }
      ]
    },
    {
      "cell_type": "code",
      "metadata": {
        "id": "VSbyb8EDpFvy",
        "colab": {
          "base_uri": "https://localhost:8080/"
        },
        "outputId": "e67c69e9-6ca9-40b5-b2fd-6f7d4d5e7cd8"
      },
      "source": [
        "# Matriz 2x1\n",
        "\n",
        "E= np.array([[1],[2]])\n",
        "print(E)"
      ],
      "execution_count": null,
      "outputs": [
        {
          "output_type": "stream",
          "text": [
            "[[1]\n",
            " [2]]\n"
          ],
          "name": "stdout"
        }
      ]
    },
    {
      "cell_type": "markdown",
      "metadata": {
        "id": "C4N9wmTrbWmJ"
      },
      "source": [
        "**Operações com matrizes**"
      ]
    },
    {
      "cell_type": "markdown",
      "metadata": {
        "id": "wYjdrJpk7-J_"
      },
      "source": [
        "Após criar as matrizes, podemos realizar operações com elas."
      ]
    },
    {
      "cell_type": "code",
      "metadata": {
        "id": "Q_nVuN_j8ERu",
        "colab": {
          "base_uri": "https://localhost:8080/"
        },
        "outputId": "12d3216e-5075-47a9-84f8-247596a9cddd"
      },
      "source": [
        "# Soma \n",
        "\n",
        "M= np.array([[1,2],[1,2]])\n",
        "N= np.array([[2,0],[1,1]])\n",
        "\n",
        "print(M+N)"
      ],
      "execution_count": null,
      "outputs": [
        {
          "output_type": "stream",
          "text": [
            "[[3 2]\n",
            " [2 3]]\n"
          ],
          "name": "stdout"
        }
      ]
    },
    {
      "cell_type": "code",
      "metadata": {
        "id": "X1aFzX5T8KRC",
        "colab": {
          "base_uri": "https://localhost:8080/"
        },
        "outputId": "86568118-d53d-4fdf-9651-90e9b51f1001"
      },
      "source": [
        "# Multiplicação por Escalar\n",
        "\n",
        "print(M*2)"
      ],
      "execution_count": null,
      "outputs": [
        {
          "output_type": "stream",
          "text": [
            "[[2 4]\n",
            " [2 4]]\n"
          ],
          "name": "stdout"
        }
      ]
    },
    {
      "cell_type": "code",
      "metadata": {
        "id": "AG8qagZ1BMYT",
        "colab": {
          "base_uri": "https://localhost:8080/"
        },
        "outputId": "2e6534d9-6407-444e-a944-a731b4816e33"
      },
      "source": [
        "# Multiplicação de Matrizes\n",
        "\n",
        "MN= np.dot(M,N)\n",
        "\n",
        "print(MN)"
      ],
      "execution_count": null,
      "outputs": [
        {
          "output_type": "stream",
          "text": [
            "[[4 2]\n",
            " [4 2]]\n"
          ],
          "name": "stdout"
        }
      ]
    },
    {
      "cell_type": "code",
      "metadata": {
        "id": "nnRIQu0k6lq3",
        "colab": {
          "base_uri": "https://localhost:8080/"
        },
        "outputId": "4eb8169d-a4a5-4c58-be11-32b9659668d1"
      },
      "source": [
        "# Matriz Transposta\n",
        "\n",
        "M_trp= M.T\n",
        "\n",
        "print(M_trp)"
      ],
      "execution_count": null,
      "outputs": [
        {
          "output_type": "stream",
          "text": [
            "[[1 1]\n",
            " [2 2]]\n"
          ],
          "name": "stdout"
        }
      ]
    },
    {
      "cell_type": "markdown",
      "metadata": {
        "id": "vydFYcXsYPIw"
      },
      "source": [
        "Utilizando o módulo linalg conseguimos realizar ainda mais operações."
      ]
    },
    {
      "cell_type": "code",
      "metadata": {
        "id": "ZXsXs4l_Yh9O",
        "colab": {
          "base_uri": "https://localhost:8080/"
        },
        "outputId": "bb4ca256-44a0-4157-ca89-c9b541f2250a"
      },
      "source": [
        "# Determinante\n",
        "\n",
        "N_det= np.linalg.det(N)\n",
        "\n",
        "print(N_det)"
      ],
      "execution_count": null,
      "outputs": [
        {
          "output_type": "stream",
          "text": [
            "2.0\n"
          ],
          "name": "stdout"
        }
      ]
    },
    {
      "cell_type": "code",
      "metadata": {
        "id": "bYJHSzyZYhzu",
        "colab": {
          "base_uri": "https://localhost:8080/"
        },
        "outputId": "9cfdf9fd-66be-428e-d49b-966ebd175b12"
      },
      "source": [
        "# Matriz Inversa\n",
        "\n",
        "N_inv= np.linalg.inv(N)\n",
        "\n",
        "print(N_inv)"
      ],
      "execution_count": null,
      "outputs": [
        {
          "output_type": "stream",
          "text": [
            "[[ 0.5  0. ]\n",
            " [-0.5  1. ]]\n"
          ],
          "name": "stdout"
        }
      ]
    },
    {
      "cell_type": "markdown",
      "metadata": {
        "id": "63nM72TTECP_"
      },
      "source": [
        "### Outras Funções "
      ]
    },
    {
      "cell_type": "markdown",
      "metadata": {
        "id": "P1zxeCeWzgFa"
      },
      "source": [
        "**Zeros/Ones**"
      ]
    },
    {
      "cell_type": "markdown",
      "metadata": {
        "id": "BeEAZpelzkIA"
      },
      "source": [
        "Cria uma matriz a partir de um único elemento."
      ]
    },
    {
      "cell_type": "code",
      "metadata": {
        "id": "ktMrxa2zzqrp",
        "colab": {
          "base_uri": "https://localhost:8080/"
        },
        "outputId": "8c01afa0-a570-43f2-823a-0db5133b9df3"
      },
      "source": [
        "# Matriz 3x3 composta por 0\n",
        "\n",
        "F= np.zeros((3,3))  \n",
        "print(F)"
      ],
      "execution_count": null,
      "outputs": [
        {
          "output_type": "stream",
          "text": [
            "[[0. 0. 0.]\n",
            " [0. 0. 0.]\n",
            " [0. 0. 0.]]\n"
          ],
          "name": "stdout"
        }
      ]
    },
    {
      "cell_type": "code",
      "metadata": {
        "id": "33m7BAn-z41P",
        "colab": {
          "base_uri": "https://localhost:8080/"
        },
        "outputId": "e9dd4cf3-71ec-48dc-d003-f7a3f32eadba"
      },
      "source": [
        "# Matriz 2x2 composta por 1\n",
        "\n",
        "G= np.ones((2,2),int)\n",
        "print(G)"
      ],
      "execution_count": null,
      "outputs": [
        {
          "output_type": "stream",
          "text": [
            "[[1 1]\n",
            " [1 1]]\n"
          ],
          "name": "stdout"
        }
      ]
    },
    {
      "cell_type": "markdown",
      "metadata": {
        "id": "zNUJvjBBy-DK"
      },
      "source": [
        "**Identity**"
      ]
    },
    {
      "cell_type": "markdown",
      "metadata": {
        "id": "tuYsZ6RczBVY"
      },
      "source": [
        "Cria uma matriz identidade."
      ]
    },
    {
      "cell_type": "code",
      "metadata": {
        "id": "vRo9r85DzBFH",
        "colab": {
          "base_uri": "https://localhost:8080/"
        },
        "outputId": "6dc5ffca-89ce-491a-de3d-442ae313e335"
      },
      "source": [
        " # No argumento da função escolhemos o tamanho da matriz. \n",
        " # Ex: Matriz 4x4\n",
        "\n",
        "H= np.identity(4) \n",
        "print(H)"
      ],
      "execution_count": null,
      "outputs": [
        {
          "output_type": "stream",
          "text": [
            "[[1. 0. 0. 0.]\n",
            " [0. 1. 0. 0.]\n",
            " [0. 0. 1. 0.]\n",
            " [0. 0. 0. 1.]]\n"
          ],
          "name": "stdout"
        }
      ]
    },
    {
      "cell_type": "markdown",
      "metadata": {
        "id": "yIwjq7C5mjLs"
      },
      "source": [
        "**Max**"
      ]
    },
    {
      "cell_type": "markdown",
      "metadata": {
        "id": "nVXdcCsMtOER"
      },
      "source": [
        "Informa o maior elemento da matriz."
      ]
    },
    {
      "cell_type": "code",
      "metadata": {
        "id": "MJzfKD8oub_g",
        "colab": {
          "base_uri": "https://localhost:8080/"
        },
        "outputId": "36511205-5993-4000-e955-c82374335303"
      },
      "source": [
        "print(C,end='    maior número: ')\n",
        "\n",
        "print(C.max())"
      ],
      "execution_count": null,
      "outputs": [
        {
          "output_type": "stream",
          "text": [
            "[[1 0 3 4]\n",
            " [1 0 2 2]\n",
            " [2 3 4 5]]    maior número: 5\n"
          ],
          "name": "stdout"
        }
      ]
    },
    {
      "cell_type": "markdown",
      "metadata": {
        "id": "YPAJCwfPup0A"
      },
      "source": [
        "**Min**"
      ]
    },
    {
      "cell_type": "markdown",
      "metadata": {
        "id": "8fPm_hu4u2k6"
      },
      "source": [
        "Informa o menor elemento da matriz."
      ]
    },
    {
      "cell_type": "code",
      "metadata": {
        "id": "-aVlV7Wlu5IJ",
        "colab": {
          "base_uri": "https://localhost:8080/"
        },
        "outputId": "db3fc9d2-aaca-441b-81b2-213ce2ba8abc"
      },
      "source": [
        "print(C,end='    menor número: ')\n",
        "\n",
        "print(C.min())"
      ],
      "execution_count": null,
      "outputs": [
        {
          "output_type": "stream",
          "text": [
            "[[1 0 3 4]\n",
            " [1 0 2 2]\n",
            " [2 3 4 5]]    menor número: 0\n"
          ],
          "name": "stdout"
        }
      ]
    },
    {
      "cell_type": "markdown",
      "metadata": {
        "id": "tnnTzuGDwnh5"
      },
      "source": [
        "**Sum**"
      ]
    },
    {
      "cell_type": "markdown",
      "metadata": {
        "id": "ABlNDy6mwqs5"
      },
      "source": [
        "Retorna a soma de todos os elementos da matriz."
      ]
    },
    {
      "cell_type": "code",
      "metadata": {
        "id": "4oYbTGiKwuF5",
        "colab": {
          "base_uri": "https://localhost:8080/"
        },
        "outputId": "97965898-156a-4b53-efb5-931d7f0fcfd3"
      },
      "source": [
        "print(A,end='    soma dos elementos: ')\n",
        "\n",
        "print(A.sum())"
      ],
      "execution_count": null,
      "outputs": [
        {
          "output_type": "stream",
          "text": [
            "[[1 2 3]\n",
            " [1 2 3]]    soma dos elementos: 12\n"
          ],
          "name": "stdout"
        }
      ]
    },
    {
      "cell_type": "markdown",
      "metadata": {
        "id": "ljZUM3_exGbc"
      },
      "source": [
        "**Mean**"
      ]
    },
    {
      "cell_type": "markdown",
      "metadata": {
        "id": "Pxx5k7IfxM0o"
      },
      "source": [
        "Retorna a média dos elementos da matriz."
      ]
    },
    {
      "cell_type": "code",
      "metadata": {
        "id": "KrvaSLShxPtQ",
        "colab": {
          "base_uri": "https://localhost:8080/"
        },
        "outputId": "d564a701-0a85-4ca8-dcf4-a27a1e66766f"
      },
      "source": [
        "print(A,end='    média: ')\n",
        "\n",
        "print(A.mean())"
      ],
      "execution_count": null,
      "outputs": [
        {
          "output_type": "stream",
          "text": [
            "[[1 2 3]\n",
            " [1 2 3]]    média: 2.0\n"
          ],
          "name": "stdout"
        }
      ]
    },
    {
      "cell_type": "markdown",
      "metadata": {
        "id": "YdN-NqGzZh3C"
      },
      "source": [
        "**Std**"
      ]
    },
    {
      "cell_type": "markdown",
      "metadata": {
        "id": "JPwp11u-ZpaP"
      },
      "source": [
        "Retorna o desvio padrão. "
      ]
    },
    {
      "cell_type": "code",
      "metadata": {
        "colab": {
          "base_uri": "https://localhost:8080/"
        },
        "id": "LqMfdUAlZ9bh",
        "outputId": "9abb3a0f-934e-4b12-b73c-cd1a9a251907"
      },
      "source": [
        "print(A.std())"
      ],
      "execution_count": null,
      "outputs": [
        {
          "output_type": "stream",
          "text": [
            "0.816496580927726\n"
          ],
          "name": "stdout"
        }
      ]
    },
    {
      "cell_type": "markdown",
      "metadata": {
        "id": "fk0rN6SO0wPa"
      },
      "source": [
        "## Funções para gerar números aleatórios"
      ]
    },
    {
      "cell_type": "markdown",
      "metadata": {
        "id": "F2Wd9qAe_VkO"
      },
      "source": [
        "A biblioteca NumPy inclui o módulo random, que pode ser utilizado para gerar números pseudoaleatórios."
      ]
    },
    {
      "cell_type": "markdown",
      "metadata": {
        "id": "B5pQ5V8JLWdz"
      },
      "source": [
        "**Função rand**"
      ]
    },
    {
      "cell_type": "markdown",
      "metadata": {
        "id": "VY0ybE9uLZKD"
      },
      "source": [
        "Retorna um número float entre 0 e 1."
      ]
    },
    {
      "cell_type": "code",
      "metadata": {
        "id": "CZzk_Fx6LdyR",
        "colab": {
          "base_uri": "https://localhost:8080/"
        },
        "outputId": "40d0b31e-f805-4dc5-9e69-cd75f7c802bd"
      },
      "source": [
        "print(np.random.rand())"
      ],
      "execution_count": null,
      "outputs": [
        {
          "output_type": "stream",
          "text": [
            "0.6868741768478481\n"
          ],
          "name": "stdout"
        }
      ]
    },
    {
      "cell_type": "markdown",
      "metadata": {
        "id": "p-NiLjqOT1vg"
      },
      "source": [
        "O parâmetro da função determina a quantidade de números aleatórios que devem ser gerados e faz a função retornar um array contendo esses números. "
      ]
    },
    {
      "cell_type": "code",
      "metadata": {
        "id": "pzVkP4M-UFea",
        "colab": {
          "base_uri": "https://localhost:8080/"
        },
        "outputId": "6fb8db9f-85f0-4fdf-fad5-85619516468c"
      },
      "source": [
        "print(np.random.rand(4))"
      ],
      "execution_count": null,
      "outputs": [
        {
          "output_type": "stream",
          "text": [
            "[0.74910734 0.69779223 0.76155856 0.6559158 ]\n"
          ],
          "name": "stdout"
        }
      ]
    },
    {
      "cell_type": "markdown",
      "metadata": {
        "id": "t8ouDZs7QfeJ"
      },
      "source": [
        "Dessa forma, é possível criar matrizes usando números flutuantes aleatórios."
      ]
    },
    {
      "cell_type": "code",
      "metadata": {
        "id": "rRIdJMjzT0YB",
        "colab": {
          "base_uri": "https://localhost:8080/"
        },
        "outputId": "ab81cdcf-0d3f-4c0e-e8ff-a58093f9ae6a"
      },
      "source": [
        "# Matriz 3 x 2 com números flutuantes aleatórios entre 0 e 1\n",
        "\n",
        "I= np.random.rand(3,2)\n",
        "print(I)"
      ],
      "execution_count": null,
      "outputs": [
        {
          "output_type": "stream",
          "text": [
            "[[0.17488055 0.26818342]\n",
            " [0.67671683 0.4621109 ]\n",
            " [0.28513144 0.87887645]]\n"
          ],
          "name": "stdout"
        }
      ]
    },
    {
      "cell_type": "markdown",
      "metadata": {
        "id": "GgZY9LWlFsr-"
      },
      "source": [
        "**Função randint**"
      ]
    },
    {
      "cell_type": "markdown",
      "metadata": {
        "id": "vixkrnG9H0L6"
      },
      "source": [
        "Gera aleatoriamente um número inteiro dentro de um intervalo dado pelo usuário."
      ]
    },
    {
      "cell_type": "code",
      "metadata": {
        "id": "AJOX5yFjPEyR",
        "colab": {
          "base_uri": "https://localhost:8080/"
        },
        "outputId": "92837e90-de13-416a-f2fc-ca54287822e6"
      },
      "source": [
        "# Número inteiro aleatório entre 0 e 50\n",
        "\n",
        "print(np.random.randint(50)) "
      ],
      "execution_count": null,
      "outputs": [
        {
          "output_type": "stream",
          "text": [
            "23\n"
          ],
          "name": "stdout"
        }
      ]
    },
    {
      "cell_type": "code",
      "metadata": {
        "id": "au7E3q5lH8tk",
        "colab": {
          "base_uri": "https://localhost:8080/"
        },
        "outputId": "509420df-1b2d-47c1-d49e-afe349577afe"
      },
      "source": [
        "# Número inteiro aleatório entre 1 e 20\n",
        "\n",
        "print(np.random.randint(1,20)) "
      ],
      "execution_count": null,
      "outputs": [
        {
          "output_type": "stream",
          "text": [
            "16\n"
          ],
          "name": "stdout"
        }
      ]
    },
    {
      "cell_type": "markdown",
      "metadata": {
        "id": "kcgyXLHbM6L8"
      },
      "source": [
        "O parâmetro size determina a quantidade de números aleatórios que devem ser gerados e faz a função retornar um array contendo esses números."
      ]
    },
    {
      "cell_type": "code",
      "metadata": {
        "id": "38ThT89QNHrp",
        "colab": {
          "base_uri": "https://localhost:8080/"
        },
        "outputId": "46b8bb6f-5401-4590-a232-e907c7c29a6a"
      },
      "source": [
        "print(np.random.randint(1,20,size=4))"
      ],
      "execution_count": null,
      "outputs": [
        {
          "output_type": "stream",
          "text": [
            "[4 7 2 1]\n"
          ],
          "name": "stdout"
        }
      ]
    },
    {
      "cell_type": "markdown",
      "metadata": {
        "id": "nlnGt2ImQT1q"
      },
      "source": [
        "Dessa forma, é possível criar matrizes usando números inteiros aleatórios."
      ]
    },
    {
      "cell_type": "code",
      "metadata": {
        "id": "4gvfJlEy-DeH",
        "colab": {
          "base_uri": "https://localhost:8080/"
        },
        "outputId": "b0624345-f7e3-44aa-8412-10e178739329"
      },
      "source": [
        "# Matriz 3 x 3 com números aleatórios entre 1 e 20\n",
        "\n",
        "J = np.random.randint(1,20, (3,3))\n",
        "print(J)"
      ],
      "execution_count": null,
      "outputs": [
        {
          "output_type": "stream",
          "text": [
            "[[ 8 19  3]\n",
            " [ 3 16 12]\n",
            " [18  5  4]]\n"
          ],
          "name": "stdout"
        }
      ]
    }
  ]
}